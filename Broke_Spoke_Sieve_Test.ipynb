{
  "nbformat": 4,
  "nbformat_minor": 0,
  "metadata": {
    "colab": {
      "provenance": [],
      "authorship_tag": "ABX9TyPb+V94Jmfgcri8hLMpWX7O",
      "include_colab_link": true
    },
    "kernelspec": {
      "name": "python3",
      "display_name": "Python 3"
    },
    "language_info": {
      "name": "python"
    }
  },
  "cells": [
    {
      "cell_type": "markdown",
      "metadata": {
        "id": "view-in-github",
        "colab_type": "text"
      },
      "source": [
        "<a href=\"https://colab.research.google.com/github/brianramos/bots/blob/master/Broke_Spoke_Sieve_Test.ipynb\" target=\"_parent\"><img src=\"https://colab.research.google.com/assets/colab-badge.svg\" alt=\"Open In Colab\"/></a>"
      ]
    },
    {
      "cell_type": "code",
      "execution_count": 3,
      "metadata": {
        "colab": {
          "base_uri": "https://localhost:8080/"
        },
        "id": "9dq2rvZ9qH0E",
        "outputId": "d6e34dca-bb8e-4393-f0aa-9a53672581fa"
      },
      "outputs": [
        {
          "output_type": "stream",
          "name": "stdout",
          "text": [
            "For the start number 12000000000000000000000000000000000000000000000000000000000000000000000000000000000000000000000000000000000000000000000000000000000000000000000000000000000000000000000000000000000000000000000000000000000000000000000000000000000000000000000000000000000000000000, for a range of 1000 numbers, found 1 primes.\n",
            "Custom Sieve: Total Time = 0.505103s, Accurate = True\n",
            "sympy.primerange: Total Time = 0.905156s\n"
          ]
        }
      ],
      "source": [
        "import sympy\n",
        "import time\n",
        "import random\n",
        "\n",
        "def get_spoke_for_number(num, base):\n",
        "    return num % base\n",
        "\n",
        "def precompute_prime_spokes(bases, prime_limit):\n",
        "    primes_in_range = list(sympy.primerange(2, prime_limit + 1))\n",
        "    base_spoke_mappings = {}\n",
        "    for base in bases:\n",
        "        spoke_mapping = set()\n",
        "        for prime in primes_in_range:\n",
        "            spoke = get_spoke_for_number(prime, base)\n",
        "            spoke_mapping.add(spoke)\n",
        "        base_spoke_mappings[base] = spoke_mapping\n",
        "    return base_spoke_mappings\n",
        "\n",
        "def prime_sieve_using_spokes(spokes, sieve_start, sieve_length):  # Function name changed\n",
        "    potential_primes = set()\n",
        "    for num in range(sieve_start, sieve_start + sieve_length):\n",
        "        is_candidate = True\n",
        "        for base, spoke_mapping in spokes.items():  # Iterate through spokes dictionary\n",
        "            spoke = get_spoke_for_number(num, base)\n",
        "            if spoke not in spoke_mapping:\n",
        "                is_candidate = False\n",
        "                break\n",
        "        if is_candidate:\n",
        "            potential_primes.add(num)\n",
        "\n",
        "    confirmed_primes = [num for num in potential_primes if sympy.isprime(num)]\n",
        "    return confirmed_primes\n",
        "\n",
        "def compare_performance(sieve_start, sieve_length, bases):\n",
        "    # Define the range for test numbers\n",
        "    begin = sieve_start\n",
        "    length = sieve_length\n",
        "    test_numbers = [begin + i for i in range(length)]\n",
        "\n",
        "    # --- Precompute Prime Spokes ---\n",
        "    prime_limit = 20000  # Calculate prime_limit here\n",
        "    spokes = precompute_prime_spokes(bases, prime_limit)\n",
        "\n",
        "    # --- Custom Sieve ---\n",
        "    start_time = time.time()\n",
        "    found_primes_sieve = prime_sieve_using_spokes(spokes, begin, length)  # Pass spokes instead of bases\n",
        "\n",
        "    sieve_false_positives = 0\n",
        "    for num in test_numbers:\n",
        "        is_prime_sieve = num in found_primes_sieve\n",
        "        if is_prime_sieve and not sympy.isprime(num):\n",
        "            sieve_false_positives += 1\n",
        "    end_time = time.time()\n",
        "    sieve_time = end_time - start_time\n",
        "\n",
        "    # --- sympy.primerange ---\n",
        "    start_time = time.time()\n",
        "    found_primes_sympy = list(sympy.primerange(begin, begin + length))\n",
        "    end_time = time.time()\n",
        "    sympy_time = end_time - start_time\n",
        "\n",
        "    # --- Analysis ---\n",
        "    print(f\"For the start number {sieve_start}, for a range of {sieve_length} numbers, found {len(found_primes_sieve)} primes.\")\n",
        "    print(f\"Custom Sieve: Total Time = {sieve_time:.6f}s, Accurate = {sieve_false_positives == 0}\")\n",
        "    print(f\"sympy.primerange: Total Time = {sympy_time:.6f}s\")\n",
        "\n",
        "# Example usage (using same range for both tests):\n",
        "sieve_start = 12000000000000000000000000000000000000000000000000000000000000000000000000000000000000000000000000000000000000000000000000000000000000000000000000000000000000000000000000000000000000000000000000000000000000000000000000000000000000000000000000000000000000000000  # Starting point for the sieve range\n",
        "sieve_length = 1000  # Length of the sieve range\n",
        "bases = [1020]  # Bases for the custom sieve\n",
        "\n",
        "compare_performance(sieve_start, sieve_length, bases)"
      ]
    }
  ]
}