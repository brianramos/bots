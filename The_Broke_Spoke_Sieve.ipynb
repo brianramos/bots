{
  "nbformat": 4,
  "nbformat_minor": 0,
  "metadata": {
    "colab": {
      "provenance": [],
      "authorship_tag": "ABX9TyPS8svnm//mbCh1aFzAVoFa",
      "include_colab_link": true
    },
    "kernelspec": {
      "name": "python3",
      "display_name": "Python 3"
    },
    "language_info": {
      "name": "python"
    }
  },
  "cells": [
    {
      "cell_type": "markdown",
      "metadata": {
        "id": "view-in-github",
        "colab_type": "text"
      },
      "source": [
        "<a href=\"https://colab.research.google.com/github/brianramos/bots/blob/master/The_Broke_Spoke_Sieve.ipynb\" target=\"_parent\"><img src=\"https://colab.research.google.com/assets/colab-badge.svg\" alt=\"Open In Colab\"/></a>"
      ]
    },
    {
      "cell_type": "code",
      "execution_count": 31,
      "metadata": {
        "colab": {
          "base_uri": "https://localhost:8080/"
        },
        "id": "pOfKBICUbhFx",
        "outputId": "cf4fbf62-7e9d-4bd5-a02c-8e5f43436a74"
      },
      "outputs": [
        {
          "output_type": "stream",
          "name": "stdout",
          "text": [
            "Found 4306 primes in the range 10000000000 to 10000100000 after testing 25492\n"
          ]
        }
      ],
      "source": [
        "import sympy\n",
        "\n",
        "def get_spoke_for_number(num, base):\n",
        "    return num % base\n",
        "\n",
        "def prime_sieve_using_bases(bases, sieve_start, sieve_length, prime_limit):\n",
        "    primes_in_range = list(sympy.primerange(2, prime_limit + 1))\n",
        "\n",
        "    # Pre-calculate prime spoke mappings for each base (as in the original)\n",
        "    base_spoke_mappings = {}\n",
        "    for base in bases:\n",
        "        spoke_mapping = set()  # Use a set for efficient checking\n",
        "        for prime in primes_in_range:\n",
        "            spoke = get_spoke_for_number(prime, base)\n",
        "            spoke_mapping.add(spoke)\n",
        "        base_spoke_mappings[base] = spoke_mapping\n",
        "\n",
        "\n",
        "    potential_primes = set()\n",
        "    for num in range(sieve_start, sieve_start + sieve_length):\n",
        "        is_candidate = True\n",
        "        for base in bases:\n",
        "            spoke = get_spoke_for_number(num, base)\n",
        "            if spoke not in base_spoke_mappings[base]:\n",
        "                is_candidate = False\n",
        "                break  # No need to check other bases\n",
        "        if is_candidate:\n",
        "            potential_primes.add(num)\n",
        "\n",
        "    confirmed_primes = [num for num in potential_primes if sympy.isprime(num)] # Primality test\n",
        "\n",
        "    print(f\"Found {len(confirmed_primes)} primes in the range {sieve_start} to {sieve_start + sieve_length} after testing {len(potential_primes)}\")\n",
        "    return confirmed_primes\n",
        "\n",
        "\n",
        "\n",
        "# Example usage:\n",
        "bases = [1020]\n",
        "sieve_start = 10000000000\n",
        "sieve_length = 100000\n",
        "prime_limit = 10000  # Ensure prime_limit covers potential influences within sieve range\n",
        "\n",
        "found_primes = prime_sieve_using_bases(bases, sieve_start, sieve_length, prime_limit)"
      ]
    }
  ]
}